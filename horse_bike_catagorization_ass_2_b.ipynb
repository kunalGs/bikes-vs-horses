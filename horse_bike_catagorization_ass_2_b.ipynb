{
  "nbformat": 4,
  "nbformat_minor": 0,
  "metadata": {
    "colab": {
      "name": "horse_bike_catagorization.ipynb",
      "private_outputs": true,
      "provenance": [],
      "collapsed_sections": []
    },
    "kernelspec": {
      "name": "python3",
      "display_name": "Python 3"
    },
    "language_info": {
      "name": "python"
    }
  },
  "cells": [
    {
      "cell_type": "code",
      "execution_count": null,
      "metadata": {
        "id": "jn8hwgrAY02j"
      },
      "outputs": [],
      "source": [
        "import cv2\n",
        "import numpy as np\n",
        "import os\n",
        "import matplotlib.pyplot as plt\n",
        "import random\n",
        "import pylab as pl\n",
        "from sklearn.metrics import confusion_matrix,accuracy_score\n",
        "import pandas as pd\n",
        "\n",
        "## as SIFT and SURF algorithms are function/feature which are not implemented\n",
        "## This algorithm is patented and is excluded in this configuration\n",
        "#!pip install opencv-contrib-python==4.4.0.44"
      ]
    },
    {
      "cell_type": "code",
      "source": [
        "## exxtracting the made ziip file here \n",
        "\n",
        "from zipfile import ZipFile\n",
        "file_name = '/content/Bikes.zip'\n",
        "\n",
        "with ZipFile(file_name, 'r') as zip:\n",
        "  zip.extractall()\n",
        "  print('Done')"
      ],
      "metadata": {
        "id": "Prgvqe6gY_G6"
      },
      "execution_count": null,
      "outputs": []
    },
    {
      "cell_type": "code",
      "source": [
        "from zipfile import ZipFile\n",
        "file_name = '/content/Horses.zip'\n",
        "\n",
        "with ZipFile(file_name, 'r') as zip:\n",
        "  zip.extractall()\n",
        "  print('Done')"
      ],
      "metadata": {
        "id": "bX3Y2KAiZ1Jy"
      },
      "execution_count": null,
      "outputs": []
    },
    {
      "cell_type": "code",
      "source": [
        "btrain_path=\"/content/Bikes\"\n",
        "bikes_name=os.listdir(btrain_path)"
      ],
      "metadata": {
        "id": "NRfpWcmkY_Cn"
      },
      "execution_count": null,
      "outputs": []
    },
    {
      "cell_type": "code",
      "source": [
        "#bikes_name"
      ],
      "metadata": {
        "id": "1TwMPq6CzGQa"
      },
      "execution_count": null,
      "outputs": []
    },
    {
      "cell_type": "code",
      "source": [
        "type(bikes_name)"
      ],
      "metadata": {
        "id": "VSyhtf_Ecry5"
      },
      "execution_count": null,
      "outputs": []
    },
    {
      "cell_type": "code",
      "source": [
        "htrain_path=\"/content/Horses\"\n",
        "horses_name=os.listdir(htrain_path)"
      ],
      "metadata": {
        "id": "kcpwe5cYzJHa"
      },
      "execution_count": null,
      "outputs": []
    },
    {
      "cell_type": "code",
      "source": [
        "## declaring the class names .. order is important\n",
        "class_names= ['horse','bike']"
      ],
      "metadata": {
        "id": "kVc_rNOJcxRU"
      },
      "execution_count": null,
      "outputs": []
    },
    {
      "cell_type": "code",
      "source": [
        "type(class_names)"
      ],
      "metadata": {
        "id": "0g4QH-jSeqRf"
      },
      "execution_count": null,
      "outputs": []
    },
    {
      "cell_type": "code",
      "source": [
        "## declaring the list og training and testing data \n",
        "\n",
        "image_paths=[]\n",
        "himage_paths=[]\n",
        "bimage_paths=[]\n",
        "\n",
        "image_classes=[]"
      ],
      "metadata": {
        "id": "iC6TIa9neqFu"
      },
      "execution_count": null,
      "outputs": []
    },
    {
      "cell_type": "code",
      "source": [
        "def img_list(path):\n",
        "    return (os.path.join(path,f) for f in os.listdir(path))"
      ],
      "metadata": {
        "id": "sWfYOOuXe5sp"
      },
      "execution_count": null,
      "outputs": []
    },
    {
      "cell_type": "code",
      "source": [
        "for training_name in horses_name:\n",
        "    class_path=os.path.join(htrain_path,training_name)\n",
        "    #class_path=img_list(dir_)\n",
        "    himage_paths.append(class_path)"
      ],
      "metadata": {
        "id": "1al12I_te5mc"
      },
      "execution_count": null,
      "outputs": []
    },
    {
      "cell_type": "code",
      "source": [
        "#himage_paths"
      ],
      "metadata": {
        "id": "nr9JOzZqhaKr"
      },
      "execution_count": null,
      "outputs": []
    },
    {
      "cell_type": "code",
      "source": [
        "class_path"
      ],
      "metadata": {
        "id": "Abk665gGhmdQ"
      },
      "execution_count": null,
      "outputs": []
    },
    {
      "cell_type": "code",
      "source": [
        "for training_name in bikes_name:\n",
        "    class_path=os.path.join(btrain_path,training_name)\n",
        "    #class_path=img_list(dir_)\n",
        "    bimage_paths.append(class_path)"
      ],
      "metadata": {
        "id": "m-KnlYNte5gY"
      },
      "execution_count": null,
      "outputs": []
    },
    {
      "cell_type": "code",
      "source": [
        "## totaL IMAGE PATHS list\n",
        "image_paths = himage_paths + bimage_paths"
      ],
      "metadata": {
        "id": "pN4qq3wqjrH2"
      },
      "execution_count": null,
      "outputs": []
    },
    {
      "cell_type": "code",
      "source": [
        "len(image_paths)"
      ],
      "metadata": {
        "id": "1dRRJsSJgndS"
      },
      "execution_count": null,
      "outputs": []
    },
    {
      "cell_type": "code",
      "source": [
        "type(image_paths)"
      ],
      "metadata": {
        "id": "lIy8MyyhYsht"
      },
      "execution_count": null,
      "outputs": []
    },
    {
      "cell_type": "code",
      "source": [
        ""
      ],
      "metadata": {
        "id": "2lridjNjZVra"
      },
      "execution_count": null,
      "outputs": []
    },
    {
      "cell_type": "code",
      "source": [
        "image_classes_0=[0]*(len(himage_paths))"
      ],
      "metadata": {
        "id": "Zjd3raw3hVrF"
      },
      "execution_count": null,
      "outputs": []
    },
    {
      "cell_type": "code",
      "source": [
        "image_classes_1=[1]*(len(bimage_paths))"
      ],
      "metadata": {
        "id": "fKYnvBtUi024"
      },
      "execution_count": null,
      "outputs": []
    },
    {
      "cell_type": "code",
      "source": [
        "image_classes=image_classes_0+image_classes_1"
      ],
      "metadata": {
        "id": "l2MG6X6Gi4X7"
      },
      "execution_count": null,
      "outputs": []
    },
    {
      "cell_type": "code",
      "source": [
        "image_classes"
      ],
      "metadata": {
        "id": "3K9kAyKPi74K"
      },
      "execution_count": null,
      "outputs": []
    },
    {
      "cell_type": "code",
      "source": [
        "len(image_classes)"
      ],
      "metadata": {
        "id": "oFB7Vwc-i92g"
      },
      "execution_count": null,
      "outputs": []
    },
    {
      "cell_type": "code",
      "source": [
        "D=[]"
      ],
      "metadata": {
        "id": "x2KmhSlFkQpB"
      },
      "execution_count": null,
      "outputs": []
    },
    {
      "cell_type": "code",
      "source": [
        "## creating list of image paths and its correponding labels \n",
        "for i in range(len(image_paths)):\n",
        "    D.append((image_paths[i],image_classes[i]))"
      ],
      "metadata": {
        "id": "Ad3w8fE0knOj"
      },
      "execution_count": null,
      "outputs": []
    },
    {
      "cell_type": "code",
      "source": [
        "## 1 -> bike \n",
        "## 0 -> horse"
      ],
      "metadata": {
        "id": "9zh0Lp78r6Or"
      },
      "execution_count": null,
      "outputs": []
    },
    {
      "cell_type": "code",
      "source": [
        "len(D)"
      ],
      "metadata": {
        "id": "vguPzwlvkvyQ"
      },
      "execution_count": null,
      "outputs": []
    },
    {
      "cell_type": "code",
      "source": [
        "dataset = D\n",
        "random.shuffle(dataset)"
      ],
      "metadata": {
        "id": "-GF1siGhkzSl"
      },
      "execution_count": null,
      "outputs": []
    },
    {
      "cell_type": "code",
      "source": [
        "df = pd.DataFrame(dataset)\n",
        "train = dataset[:140]\n",
        "test = dataset[140:]"
      ],
      "metadata": {
        "id": "I_1QzXasq05b"
      },
      "execution_count": null,
      "outputs": []
    },
    {
      "cell_type": "code",
      "source": [
        "df_train = pd.DataFrame(train)\n",
        "df_test = pd.DataFrame(test)"
      ],
      "metadata": {
        "id": "oYfrYx7ze17u"
      },
      "execution_count": null,
      "outputs": []
    },
    {
      "cell_type": "code",
      "source": [
        ""
      ],
      "metadata": {
        "id": "s0GAxfQScjJS"
      },
      "execution_count": null,
      "outputs": []
    },
    {
      "cell_type": "markdown",
      "source": [
        "## defining train and test data "
      ],
      "metadata": {
        "id": "yBvFxN07v-DP"
      }
    },
    {
      "cell_type": "code",
      "source": [
        ""
      ],
      "metadata": {
        "id": "hN58DdL0wB35"
      },
      "execution_count": null,
      "outputs": []
    },
    {
      "cell_type": "code",
      "source": [
        "timage_paths = df_train[0]\n",
        "y_train = df_train[1]\n",
        "test_image_paths = df_test[0]\n",
        "y_test = df_test[1]"
      ],
      "metadata": {
        "id": "rHNkYuT7Y2H9"
      },
      "execution_count": null,
      "outputs": []
    },
    {
      "cell_type": "code",
      "source": [
        "y_train"
      ],
      "metadata": {
        "id": "uNK1_ywdeHfg"
      },
      "execution_count": null,
      "outputs": []
    },
    {
      "cell_type": "code",
      "source": [
        "type(timage_paths)"
      ],
      "metadata": {
        "id": "bn0Su7zIX-DC"
      },
      "execution_count": null,
      "outputs": []
    },
    {
      "cell_type": "code",
      "source": [
        "df_train= pd.DataFrame(train)"
      ],
      "metadata": {
        "id": "B2W6bNvtoZX7"
      },
      "execution_count": null,
      "outputs": []
    },
    {
      "cell_type": "code",
      "source": [
        "## just checking the creation\n",
        "df_train[0]"
      ],
      "metadata": {
        "id": "YC6RZWAvWKKX"
      },
      "execution_count": null,
      "outputs": []
    },
    {
      "cell_type": "code",
      "source": [
        "df_test = pd.DataFrame(test)"
      ],
      "metadata": {
        "id": "Nmt1glCHoyoF"
      },
      "execution_count": null,
      "outputs": []
    },
    {
      "cell_type": "code",
      "source": [
        "df_train[1]"
      ],
      "metadata": {
        "id": "45lR8mTWpPGx"
      },
      "execution_count": null,
      "outputs": []
    },
    {
      "cell_type": "code",
      "source": [
        "train"
      ],
      "metadata": {
        "id": "q_6mS-x3lHzS"
      },
      "execution_count": null,
      "outputs": []
    },
    {
      "cell_type": "code",
      "source": [
        "des_list=[]"
      ],
      "metadata": {
        "id": "GEGkTaoGlwIq"
      },
      "execution_count": null,
      "outputs": []
    },
    {
      "cell_type": "code",
      "source": [
        ""
      ],
      "metadata": {
        "id": "pBZfMskVfnL2"
      },
      "execution_count": null,
      "outputs": []
    },
    {
      "cell_type": "code",
      "source": [
        "\n",
        "img = cv2.imread(image_paths[2], cv2.IMREAD_GRAYSCALE)"
      ],
      "metadata": {
        "id": "w1kJrdp1fGNA"
      },
      "execution_count": null,
      "outputs": []
    },
    {
      "cell_type": "code",
      "source": [
        "# surf = cv2.xfeatures2d.SURF_create()\n",
        "## checking the surf "
      ],
      "metadata": {
        "id": "PBYIp92pzOzo"
      },
      "execution_count": null,
      "outputs": []
    },
    {
      "cell_type": "code",
      "source": [
        "#keypoints_surf, descriptors = surf.detectAndCompute(img, None)"
      ],
      "metadata": {
        "id": "2Oqs6CgPet2J"
      },
      "execution_count": null,
      "outputs": []
    },
    {
      "cell_type": "code",
      "source": [
        "#img = cv2.drawKeypoints(img, keypoints, None)\n",
        "#cv2.imshow(\"Image\", img)"
      ],
      "metadata": {
        "id": "wht1QHtLfUBy"
      },
      "execution_count": null,
      "outputs": []
    },
    {
      "cell_type": "code",
      "source": [
        "orb=cv2.ORB_create()"
      ],
      "metadata": {
        "id": "8AT6MZWIl81q"
      },
      "execution_count": null,
      "outputs": []
    },
    {
      "cell_type": "markdown",
      "source": [
        "## just checking for example"
      ],
      "metadata": {
        "id": "uYIbtNHJVjFX"
      }
    },
    {
      "cell_type": "code",
      "source": [
        "im=cv2.imread(image_paths[5])"
      ],
      "metadata": {
        "id": "mS_pvYxbl_Qq"
      },
      "execution_count": null,
      "outputs": []
    },
    {
      "cell_type": "markdown",
      "source": [
        ""
      ],
      "metadata": {
        "id": "DIndlun_VhaC"
      }
    },
    {
      "cell_type": "code",
      "source": [
        "plt.imshow(im)"
      ],
      "metadata": {
        "id": "B5gh9uGXmDCJ"
      },
      "execution_count": null,
      "outputs": []
    },
    {
      "cell_type": "code",
      "source": [
        "def draw_keypoints(vis, keypoints, color = (0, 255, 255)):\n",
        "    for kp in keypoints:\n",
        "            x, y = kp.pt\n",
        "            plt.imshow(cv2.circle(vis, (int(x), int(y)), 2, color))"
      ],
      "metadata": {
        "id": "qNcqavsamGZ3"
      },
      "execution_count": null,
      "outputs": []
    },
    {
      "cell_type": "code",
      "source": [
        "kp = orb.detect(im,None)\n",
        "kp, des = orb.compute(im, kp)\n",
        "img=draw_keypoints(im,kp)"
      ],
      "metadata": {
        "id": "KFN0l10NmOyy"
      },
      "execution_count": null,
      "outputs": []
    },
    {
      "cell_type": "markdown",
      "source": [
        "example ends :)"
      ],
      "metadata": {
        "id": "4pnDiGwLVp1U"
      }
    },
    {
      "cell_type": "code",
      "source": [
        ""
      ],
      "metadata": {
        "id": "Cak_gqHTcQ9a"
      },
      "execution_count": null,
      "outputs": []
    },
    {
      "cell_type": "markdown",
      "source": [
        "##Appending descriptors of the training images in list"
      ],
      "metadata": {
        "id": "oTmwR-KCWFIo"
      }
    },
    {
      "cell_type": "code",
      "source": [
        "for image_pat in timage_paths:\n",
        "    im=cv2.imread(image_pat)\n",
        "    kp=orb.detect(im,None)\n",
        "    keypoints,descriptor= orb.compute(im, kp)\n",
        "    des_list.append((image_pat,descriptor))"
      ],
      "metadata": {
        "id": "iSgfhEwamS4C"
      },
      "execution_count": null,
      "outputs": []
    },
    {
      "cell_type": "code",
      "source": [
        "descriptors=des_list[0][1]\n",
        "for image_path,descriptor in des_list[1:]:\n",
        "    descriptors=np.vstack((descriptors,descriptor))"
      ],
      "metadata": {
        "id": "_U-IVlhLmle2"
      },
      "execution_count": null,
      "outputs": []
    },
    {
      "cell_type": "code",
      "source": [
        "descriptors.shape"
      ],
      "metadata": {
        "id": "9O4wLz-tmrgb"
      },
      "execution_count": null,
      "outputs": []
    },
    {
      "cell_type": "code",
      "source": [
        "descriptors_float=descriptors.astype(float)"
      ],
      "metadata": {
        "id": "m3m0JCZMmumq"
      },
      "execution_count": null,
      "outputs": []
    },
    {
      "cell_type": "markdown",
      "source": [
        "## K - means clustring on Descriptors"
      ],
      "metadata": {
        "id": "hqpVgDWWm1lh"
      }
    },
    {
      "cell_type": "code",
      "source": [
        "from scipy.cluster.vq import kmeans,vq"
      ],
      "metadata": {
        "id": "EHz7NynPmz7J"
      },
      "execution_count": null,
      "outputs": []
    },
    {
      "cell_type": "code",
      "source": [
        "k=200\n",
        "voc,variance=kmeans(descriptors_float,k,1)"
      ],
      "metadata": {
        "id": "lI6ghi0Qm9We"
      },
      "execution_count": null,
      "outputs": []
    },
    {
      "cell_type": "markdown",
      "source": [
        "##Creating histogram of training image"
      ],
      "metadata": {
        "id": "D06MKzLhWlrQ"
      }
    },
    {
      "cell_type": "code",
      "source": [
        "im_features=np.zeros((len(timage_paths),k),\"float32\")\n",
        "for i in range(len(timage_paths)):\n",
        "    words,distance=vq(des_list[i][1],voc)\n",
        "    for w in words:\n",
        "        im_features[i][w]+=1"
      ],
      "metadata": {
        "id": "wSPE2iZ8nKoO"
      },
      "execution_count": null,
      "outputs": []
    },
    {
      "cell_type": "code",
      "source": [
        ""
      ],
      "metadata": {
        "id": "Mw_wGzMuYYxm"
      },
      "execution_count": null,
      "outputs": []
    },
    {
      "cell_type": "markdown",
      "source": [
        "##Creating Classification Model with SVM"
      ],
      "metadata": {
        "id": "EHpzy2hgWZhu"
      }
    },
    {
      "cell_type": "code",
      "source": [
        "from sklearn.svm import LinearSVC\n",
        "clf=LinearSVC(max_iter=80000)\n",
        "clf.fit(im_features,np.array(y_train))"
      ],
      "metadata": {
        "id": "St4ex7xanOOA"
      },
      "execution_count": null,
      "outputs": []
    },
    {
      "cell_type": "code",
      "source": [
        "LinearSVC(C=1.0, class_weight=None, dual=True, fit_intercept=True,\n",
        "          intercept_scaling=1, loss='squared_hinge', max_iter=80000,\n",
        "          multi_class='ovr', penalty='l2', tol=0.0001)"
      ],
      "metadata": {
        "id": "kw5Ln2V7nSEu"
      },
      "execution_count": null,
      "outputs": []
    },
    {
      "cell_type": "markdown",
      "source": [
        "## testing the model and calculating the accuracy"
      ],
      "metadata": {
        "id": "v_K0DcUnWvTP"
      }
    },
    {
      "cell_type": "code",
      "source": [
        "des_list_test=[]"
      ],
      "metadata": {
        "id": "0P2RptAnrOEH"
      },
      "execution_count": null,
      "outputs": []
    },
    {
      "cell_type": "code",
      "source": [
        "type(test)"
      ],
      "metadata": {
        "id": "CaZDYNfbW0UC"
      },
      "execution_count": null,
      "outputs": []
    },
    {
      "cell_type": "code",
      "source": [
        "for image_pat in test_image_paths:\n",
        "    image=cv2.imread(image_pat,1)\n",
        "    kp=orb.detect(image,None)\n",
        "    keypoints_test,descriptor_test= orb.compute(image, kp)\n",
        "    des_list_test.append((image_pat,descriptor_test))"
      ],
      "metadata": {
        "id": "BAyR5glsrM79"
      },
      "execution_count": null,
      "outputs": []
    },
    {
      "cell_type": "code",
      "source": [
        "len(des_list_test)"
      ],
      "metadata": {
        "id": "KioyOXVQrEtl"
      },
      "execution_count": null,
      "outputs": []
    },
    {
      "cell_type": "code",
      "source": [
        "len(test_image_paths)"
      ],
      "metadata": {
        "id": "aCb3R7Dcscx8"
      },
      "execution_count": null,
      "outputs": []
    },
    {
      "cell_type": "code",
      "source": [
        "from scipy.cluster.vq import vq\n",
        "test_features=np.zeros((len(test_image_paths),k),\"float32\")\n",
        "for i in range(len(test_image_paths)):\n",
        "    words,distance=vq(des_list_test[i][1],voc)\n",
        "    for w in words:\n",
        "        test_features[i][w]+=1"
      ],
      "metadata": {
        "id": "y2QltLYwgDb-"
      },
      "execution_count": null,
      "outputs": []
    },
    {
      "cell_type": "code",
      "source": [
        "test_features"
      ],
      "metadata": {
        "id": "6go0uaYKs2T8"
      },
      "execution_count": null,
      "outputs": []
    },
    {
      "cell_type": "code",
      "source": [
        ""
      ],
      "metadata": {
        "id": "1yNLwha0s49V"
      },
      "execution_count": null,
      "outputs": []
    },
    {
      "cell_type": "code",
      "source": [
        "true_classes=[]\n",
        "for i in y_test:\n",
        "    if i==1:\n",
        "        true_classes.append(\"Bike\")\n",
        "    else:\n",
        "        true_classes.append(\"Horse\")"
      ],
      "metadata": {
        "id": "vCn7UPURs8Ze"
      },
      "execution_count": null,
      "outputs": []
    },
    {
      "cell_type": "code",
      "source": [
        "predict_classes=[]\n",
        "for i in clf.predict(test_features):\n",
        "    if i==1:\n",
        "        predict_classes.append(\"Bike\")\n",
        "    else:\n",
        "        predict_classes.append(\"Horse\")"
      ],
      "metadata": {
        "id": "HyKqF6JDtjgW"
      },
      "execution_count": null,
      "outputs": []
    },
    {
      "cell_type": "code",
      "source": [
        "print(true_classes)"
      ],
      "metadata": {
        "id": "A77QdGaJtxNy"
      },
      "execution_count": null,
      "outputs": []
    },
    {
      "cell_type": "code",
      "source": [
        "print(predict_classes)"
      ],
      "metadata": {
        "id": "wzUr52LytzTs"
      },
      "execution_count": null,
      "outputs": []
    },
    {
      "cell_type": "code",
      "source": [
        "clf.predict(test_features)"
      ],
      "metadata": {
        "id": "Ve6klIMEt8M0"
      },
      "execution_count": null,
      "outputs": []
    },
    {
      "cell_type": "code",
      "source": [
        "accuracy=accuracy_score(true_classes,predict_classes)\n",
        "print(accuracy)"
      ],
      "metadata": {
        "id": "K623iCMCuA9p"
      },
      "execution_count": null,
      "outputs": []
    },
    {
      "cell_type": "code",
      "source": [
        ""
      ],
      "metadata": {
        "id": "_HejtuNeuEdM"
      },
      "execution_count": null,
      "outputs": []
    }
  ]
}